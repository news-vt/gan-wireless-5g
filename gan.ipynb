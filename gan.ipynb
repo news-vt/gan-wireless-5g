{
 "cells": [
  {
   "cell_type": "markdown",
   "metadata": {},
   "source": [
    "# Generative Adversarial Learning for Intelligent 5G Interference Mitigation\n",
    "\n",
    "In this notebook, we implement a generative adversarial network (GAN) for use in 5G wireless interference mitigation."
   ]
  },
  {
   "cell_type": "code",
   "execution_count": 1,
   "metadata": {},
   "outputs": [],
   "source": [
    "%matplotlib inline\n",
    "\n",
    "import matplotlib.pyplot as plt\n",
    "import numpy as np\n",
    "import pandas as pd\n",
    "from pathlib import Path\n",
    "import seaborn as sns\n",
    "import tensorflow as tf\n",
    "import tensorflow.keras as keras\n",
    "\n",
    "sns.set() # Use seaborn themes."
   ]
  },
  {
   "cell_type": "code",
   "execution_count": 2,
   "metadata": {},
   "outputs": [],
   "source": [
    "# Here define some root paths for saving content.\n",
    "image_save_dir = Path('../final_project_report_ece_5674/images/').expanduser()"
   ]
  },
  {
   "cell_type": "markdown",
   "metadata": {},
   "source": [
    "## Types of Adversarial Attacks\n",
    "\n",
    "1. Attack on 5G spectrum sharing ([section IV-A](https://arxiv.org/pdf/2101.02656.pdf))\n",
    "    * Discriminator learns whether channel is idle or busy\n",
    "    * Generator learns to transmit when channel is considered idle to make the channel be considered busy\n",
    "1. Attack on signal authentication in network slicing ([section IV-B](https://arxiv.org/pdf/2101.02656.pdf))\n",
    "    * The network provides services to authenticated user equipment (UE, i.e., cellphones)\n",
    "    * Discriminator is trained to identify UEs for auth (trained on signal I/Q data, both power and phase)\n",
    "    * Generator produces signals with I/Q that match those of authenticated UEs by monitoring the wireless environment"
   ]
  },
  {
   "cell_type": "markdown",
   "metadata": {},
   "source": []
  }
 ],
 "metadata": {
  "kernelspec": {
   "display_name": "Python 3.9.10 ('ml')",
   "language": "python",
   "name": "python3"
  },
  "language_info": {
   "codemirror_mode": {
    "name": "ipython",
    "version": 3
   },
   "file_extension": ".py",
   "mimetype": "text/x-python",
   "name": "python",
   "nbconvert_exporter": "python",
   "pygments_lexer": "ipython3",
   "version": "3.9.10"
  },
  "orig_nbformat": 4,
  "vscode": {
   "interpreter": {
    "hash": "4e27c2da514be0f4555df3a4c15a4c6256ef40203ad64abea68e2343d203af1e"
   }
  }
 },
 "nbformat": 4,
 "nbformat_minor": 2
}
